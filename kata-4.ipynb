{
 "cells": [
  {
   "cell_type": "markdown",
   "metadata": {},
   "source": [
    "# Kata 04"
   ]
  },
  {
   "cell_type": "markdown",
   "metadata": {},
   "source": [
    "Ejercicio 1"
   ]
  },
  {
   "cell_type": "code",
   "execution_count": 3,
   "metadata": {},
   "outputs": [
    {
     "name": "stdout",
     "output_type": "stream",
     "text": [
      "'Average' is in: 163\n",
      "'Temperature' is in: 325\n",
      "'Distance' is in: -1\n",
      "On average, the Moon moves 4cm away from the Earth every year\n",
      "The highest daylight temperature of the Moon is 127 C\n",
      "On average, the Moon moves 4cm away from the Earth every year\n",
      "The highest daylight temperature of the Moon is 127 Celsius\n"
     ]
    }
   ],
   "source": [
    "text = \"\"\"Interesting facts about the Moon. The Moon is Earth's only satellite. There are several interesting facts about the Moon and how it affects life here on Earth. On average, the Moon moves 4cm away from the Earth every year. This yearly drift is not significant enough to cause immediate effects on Earth. The highest daylight temperature of the Moon is 127 C\"\"\"\n",
    "\n",
    "# Dividiendo la cadena\n",
    "parts = text.split('. ')\n",
    "\n",
    "# Buscando en la cadena...\n",
    "words = ['average', 'temperature', 'distance']\n",
    "print(\"'Average' is in: \" + str(text.find('average')))\n",
    "print(\"'Temperature' is in: \" + str(text.find('temperature')))\n",
    "print(\"'Distance' is in: \" + str(text.find('distance')))\n",
    "\n",
    "# Recorrer la cadena\n",
    "for sentence in parts:\n",
    "    for word in words:\n",
    "        if word in sentence:\n",
    "            print(sentence)\n",
    "            break\n",
    "\n",
    "# Ciclo para cambiar 'C' por 'Celsius'\n",
    "for sentence in parts:\n",
    "    for word in words:\n",
    "        if word in sentence:\n",
    "            print(sentence.replace(' C', ' Celsius'))\n",
    "\n",
    "\n"
   ]
  },
  {
   "cell_type": "markdown",
   "metadata": {},
   "source": [
    "Ejercicio 2"
   ]
  },
  {
   "cell_type": "code",
   "execution_count": 4,
   "metadata": {},
   "outputs": [
    {
     "name": "stdout",
     "output_type": "stream",
     "text": [
      "\n",
      "Planet: Marte  Gravity in Granimedes: 14.3 m/s2\n",
      "\n",
      "Planet: Marte  Gravity in Granimedes: 14.3 m/s2\n",
      "\n",
      "Datos de gravedad sobre: Ganimedes \n",
      "Nombre del planeta: Marte  \n",
      "Gravedad en Ganimedes: 0.00143 m/s2\n"
     ]
    }
   ],
   "source": [
    "planet = 'Marte '\n",
    "gravity = 0.0143\n",
    "name = 'Granimedes'\n",
    "\n",
    "# Titulo\n",
    "title = f'datos de gravedad sobre {name}'\n",
    "\n",
    "# Plantilla\n",
    "facts = f\"\\nPlanet: {planet} Gravity in {name}: {gravity * 1000} m/s2\"\n",
    "\n",
    "# Unir cadenas\n",
    "template = f\"\"\"{title.title()} {facts}\"\"\"\n",
    "print(facts)\n",
    "\n",
    "# Nueva muestra\n",
    "planet = 'Marte '\n",
    "gravity = 0.00143\n",
    "name = 'Ganimedes'\n",
    "\n",
    "# Comprobacion\n",
    "print(facts)\n",
    "\n",
    "new_template = f\"\"\"\\nDatos de gravedad sobre: {name} \n",
    "Nombre del planeta: {planet} \n",
    "Gravedad en {name}: {gravity} m/s2\"\"\"\n",
    "print(new_template.format(name=name, planet=planet, gravity=gravity))"
   ]
  }
 ],
 "metadata": {
  "interpreter": {
   "hash": "4a21aab90cb073cf7c29673da5a08e22b947d70c1133c0dd6a32e2f003669cba"
  },
  "kernelspec": {
   "display_name": "Python 3.10.2 64-bit",
   "language": "python",
   "name": "python3"
  },
  "language_info": {
   "codemirror_mode": {
    "name": "ipython",
    "version": 3
   },
   "file_extension": ".py",
   "mimetype": "text/x-python",
   "name": "python",
   "nbconvert_exporter": "python",
   "pygments_lexer": "ipython3",
   "version": "3.10.2"
  },
  "orig_nbformat": 4
 },
 "nbformat": 4,
 "nbformat_minor": 2
}
