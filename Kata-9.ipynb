{
 "cells": [
  {
   "cell_type": "markdown",
   "metadata": {},
   "source": [
    "# Kata 09"
   ]
  },
  {
   "cell_type": "markdown",
   "metadata": {},
   "source": [
    "Ejercicio 1 - Uso de funciones en Python"
   ]
  },
  {
   "cell_type": "code",
   "execution_count": 61,
   "metadata": {},
   "outputs": [
    {
     "name": "stdout",
     "output_type": "stream",
     "text": [
      "Fuel Report:\n",
      "    Total: 78.33333333333333%\n",
      "    Tank 1: 80%\n",
      "    Tank 2: 70%\n",
      "    Tank 3: 85%\n",
      "\n",
      "Fuel Report:\n",
      "    Total: 78.0%\n",
      "    Tank 1: 88%\n",
      "    Tank 2: 76%\n",
      "    Tank 3: 70%\n"
     ]
    }
   ],
   "source": [
    "# Función para leer 3 tanques de combustible y muestre el promedio\n",
    "\n",
    "def report(tank1, tank2, tank3):\n",
    "    total_average = (tank1 + tank2 + tank3) / 3\n",
    "    return f\"\"\"Fuel Report:\n",
    "    Total: {total_average}%\n",
    "    Tank 1: {tank1}%\n",
    "    Tank 2: {tank2}%\n",
    "    Tank 3: {tank3}%\"\"\"\n",
    "\n",
    "# Llamamos a la función que genera el reporte print(funcion(tanque1, tanque2, tanque3))\n",
    "print(report(80, 70, 85))\n",
    "\n",
    "# Función promedio \n",
    "def average(values):\n",
    "    total = sum(values)\n",
    "    elements = len(values)\n",
    "    return total / elements\n",
    "\n",
    "# Test the averaging function with a list of integers:\n",
    "average([80, 85, 81]) \n",
    "\n",
    "# Actualiza la función\n",
    "def report(tank1, tank2, tank3):\n",
    "    return f\"\"\"\\nFuel Report:\n",
    "    Total: {average([tank1, tank2, tank3])}%\n",
    "    Tank 1: {tank1}%\n",
    "    Tank 2: {tank2}%\n",
    "    Tank 3: {tank3}%\"\"\"\n",
    "\n",
    "# Call the updated function again with different values\n",
    "print(report(88, 76, 70))"
   ]
  },
  {
   "cell_type": "markdown",
   "metadata": {},
   "source": [
    "Ejercicio 2 - Trabajo con argumentos de palabra clave"
   ]
  },
  {
   "cell_type": "code",
   "execution_count": 62,
   "metadata": {},
   "outputs": [
    {
     "name": "stdout",
     "output_type": "stream",
     "text": [
      "\n",
      "    Destination: Moon\n",
      "    Total time: 65 minutes\n",
      "    Total remaining fuel: 500000 gallons\n",
      "\n",
      "    Destination: Moon\n",
      "    Total time: 76 minutes\n",
      "    Total remaining fuel: 500000\n",
      "    \n",
      "\n",
      "    Destination: Moon\n",
      "    Total time: 74 minutes\n",
      "    Total remaining fuel: 500000\n",
      "    \t - tank_01 has 300000 gallons \n",
      "\t - tank_02 has 200000 gallons \n",
      "\n"
     ]
    }
   ],
   "source": [
    "# Función con un informe preciso de la misión. Considera hora de prelanzamiento, tiempo de vuelo, destino, tanque externo y tanque interno\n",
    "\n",
    "def mission(prelaunch, flight, destination, tank_1, tank_2):\n",
    "    return f\"\"\"\n",
    "    Destination: {destination}\n",
    "    Total time: {prelaunch + flight} minutes\n",
    "    Total remaining fuel: {tank_1 + tank_2} gallons\"\"\"\n",
    "print(mission(14, 51, \"Moon\", 200000, 300000))\n",
    "\n",
    "\n",
    "# Escribe tu nueva función de reporte considerando lo anterior\n",
    "\n",
    "def mission(destination, *minutes, **remaining_fuel):\n",
    "    return f\"\"\"\n",
    "    Destination: {destination}\n",
    "    Total time: {sum(minutes)} minutes\n",
    "    Total remaining fuel: {sum(remaining_fuel.values())}\n",
    "    \"\"\"\n",
    "print(mission(\"Moon\", 10, 15, 51, tank_01=300000, tank_02=200000))\n",
    "\n",
    "\n",
    "# Escribe tu nueva función\n",
    "\n",
    "def mission(destination, *minutes, **remaining_fuel):\n",
    "    final_report = f\"\"\"\n",
    "    Destination: {destination}\n",
    "    Total time: {sum(minutes)} minutes\n",
    "    Total remaining fuel: {sum(remaining_fuel.values())}\n",
    "    \"\"\"\n",
    "    for tank_name, gallons in remaining_fuel.items():\n",
    "        final_report += f\"\\t - {tank_name} has {gallons} gallons \\n\"\n",
    "    return final_report\n",
    "    \n",
    "print(mission(\"Moon\", 8, 11, 55, tank_01=300000, tank_02=200000))"
   ]
  }
 ],
 "metadata": {
  "interpreter": {
   "hash": "4a21aab90cb073cf7c29673da5a08e22b947d70c1133c0dd6a32e2f003669cba"
  },
  "kernelspec": {
   "display_name": "Python 3.10.2 64-bit",
   "language": "python",
   "name": "python3"
  },
  "language_info": {
   "codemirror_mode": {
    "name": "ipython",
    "version": 3
   },
   "file_extension": ".py",
   "mimetype": "text/x-python",
   "name": "python",
   "nbconvert_exporter": "python",
   "pygments_lexer": "ipython3",
   "version": "3.10.2"
  },
  "orig_nbformat": 4
 },
 "nbformat": 4,
 "nbformat_minor": 2
}
