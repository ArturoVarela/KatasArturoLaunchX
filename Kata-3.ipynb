{
 "cells": [
  {
   "cell_type": "markdown",
   "metadata": {},
   "source": [
    "# Kata 3"
   ]
  },
  {
   "cell_type": "markdown",
   "metadata": {},
   "source": [
    "Ejercicio 1 - Declaraciones if, else y elif"
   ]
  },
  {
   "cell_type": "code",
   "execution_count": 4,
   "metadata": {},
   "outputs": [
    {
     "name": "stdout",
     "output_type": "stream",
     "text": [
      "Alerta!!! El asteroide se aproxima a una velocidad de: 50 km/s\n"
     ]
    }
   ],
   "source": [
    "# Ejercicio 1\n",
    "\n",
    "asteroide = input(\"Introduzca la velocidad del asteroide\")\n",
    "warning = str(25)\n",
    "if asteroide <= warning:\n",
    "    print(\"No hay nada de que preocuparse, que tengas un buen dia\")\n",
    "else:\n",
    "    print(\"Alerta!!! El asteroide se aproxima a una velocidad de: \" + asteroide + \" km/s\")\n",
    "\n"
   ]
  },
  {
   "cell_type": "code",
   "execution_count": 5,
   "metadata": {},
   "outputs": [
    {
     "name": "stdout",
     "output_type": "stream",
     "text": [
      "Alerta!!! Busquen un rayo en el cielo, un asteroide se aproxima a una velocidad de: 50 km/s\n"
     ]
    }
   ],
   "source": [
    "# Ejercicio 2\n",
    "\n",
    "asteroide = input(\"Introduzca la velocidad del asteroide\")\n",
    "warning = str(20)\n",
    "if asteroide > warning:\n",
    "    print(\"Alerta!!! Busquen un rayo en el cielo, un asteroide se aproxima a una velocidad de: \" + asteroide + \" km/s\")\n",
    "elif asteroide == warning:\n",
    "    print(\"Miren la luz en el cielo\")\n",
    "else:\n",
    "    print(\"Miren la luz en el cielo, un asteroide se acerca a una velocidad de: \" + asteroide + \" km/s\")"
   ]
  },
  {
   "cell_type": "markdown",
   "metadata": {},
   "source": [
    "Ejercicio 2 -Operadores and y or"
   ]
  },
  {
   "cell_type": "code",
   "execution_count": 6,
   "metadata": {},
   "outputs": [
    {
     "name": "stdout",
     "output_type": "stream",
     "text": [
      "Sigue correctamente las instruciones\n",
      "Escribe correctamente 'si' o 'no' si el asteroide se encuentra dentro de la atmosfera\n"
     ]
    }
   ],
   "source": [
    "# Ejercicio 3\n",
    "\n",
    "a = input(\"Introduzca la velocidad del asteroide\")\n",
    "b = input(\"Introduzca la dimension del asteroide en metros\")\n",
    "lugar = input(\"El asteroide esta dentro de la atmosfera?   (si/no)\")\n",
    "velocidad = int(a)\n",
    "dimension = int(b) \n",
    "\n",
    "if lugar == \"si\":\n",
    "    if velocidad >= 20 and dimension >= 25 and dimension < 1000:\n",
    "        print(\"Alerta!!! Esa luz en el cielo es un asteroide que se aproxima a una velocidad de \" + a + \" km/s y causara un gran impacto\")\n",
    "    elif velocidad >= 20 and dimension < 25:\n",
    "        print(\"Busquen una luz en el cielo y alejense de ahi!!\")\n",
    "    elif velocidad < 20 and dimension >= 25:\n",
    "        print(\"Un gran asteroide de \" + b + \"m se acerca y puede causar un gran impacto\")\n",
    "    elif dimension >= 1000:\n",
    "        print(\"Ay no :(\")\n",
    "    else:\n",
    "        print(\"No hay nada de que preocuparse, que tengas un buen dia\")\n",
    "\n",
    "elif lugar == \"no\":\n",
    "    if velocidad >= 25 and dimension >= 25 and dimension < 1000 :\n",
    "        print(\"Alerta!!! El asteroide se aproxima a una velocidad de \" + a + \" km/s y causara un gran impacto\")\n",
    "    elif velocidad >= 25 and dimension < 25:\n",
    "        print(\"Alerta!!! El asteroide se aproxima a una velocidad de \" + a + \" km/s\")\n",
    "    elif velocidad < 25 and dimension >= 25:\n",
    "        print(\"Un gran asteroide de \" + b + \"m se acerca y puede causar un gran impacto\")\n",
    "    elif dimension >= 1000:\n",
    "        print(\"Ay no :(\")\n",
    "    else:\n",
    "        print(\"No hay nada de que preocuparse, que tengas un buen dia\")\n",
    "else:\n",
    "    print(\"Sigue correctamente las instruciones\")\n",
    "    print(\"Escribe correctamente 'si' o 'no' si el asteroide se encuentra dentro de la atmosfera\")"
   ]
  }
 ],
 "metadata": {
  "interpreter": {
   "hash": "4a21aab90cb073cf7c29673da5a08e22b947d70c1133c0dd6a32e2f003669cba"
  },
  "kernelspec": {
   "display_name": "Python 3.10.2 64-bit",
   "language": "python",
   "name": "python3"
  },
  "language_info": {
   "codemirror_mode": {
    "name": "ipython",
    "version": 3
   },
   "file_extension": ".py",
   "mimetype": "text/x-python",
   "name": "python",
   "nbconvert_exporter": "python",
   "pygments_lexer": "ipython3",
   "version": "3.10.2"
  },
  "orig_nbformat": 4
 },
 "nbformat": 4,
 "nbformat_minor": 2
}
