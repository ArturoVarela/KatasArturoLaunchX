{
 "cells": [
  {
   "cell_type": "markdown",
   "metadata": {},
   "source": [
    "# Kata 05"
   ]
  },
  {
   "cell_type": "markdown",
   "metadata": {},
   "source": [
    "Ejercicio 1 - Operadores aritmeticos"
   ]
  },
  {
   "cell_type": "code",
   "execution_count": 1,
   "metadata": {},
   "outputs": [
    {
     "name": "stdout",
     "output_type": "stream",
     "text": [
      "628949330 km\n",
      "\n",
      "390577533.93 mi\n"
     ]
    }
   ],
   "source": [
    "# Variables para almacenar ambas distancias\n",
    "\n",
    "planet_1 = 149597870\n",
    "planet_2 = 778547200\n",
    "\n",
    "\n",
    "# Calcular la distancia entre los planetas\n",
    "\n",
    "km = planet_2 - planet_1\n",
    "mi = km * 0.621\n",
    "\n",
    "print(str(km) + ' km')\n",
    "print('\\n' + str(mi) + ' mi')"
   ]
  },
  {
   "cell_type": "markdown",
   "metadata": {},
   "source": [
    "Ejercicio 2 - Cadenas a numeros y valores absolutos"
   ]
  },
  {
   "cell_type": "code",
   "execution_count": 2,
   "metadata": {},
   "outputs": [
    {
     "name": "stdout",
     "output_type": "stream",
     "text": [
      "200 km\n",
      "\n",
      "124.2 mi\n"
     ]
    }
   ],
   "source": [
    "# Almacenar las entradas del usuario\n",
    "planet_1 = input('Enter the distance between the sun and the fist planet in km')\n",
    "planet_2 = input('Enter the distance between the sun and the second planet in km')\n",
    "\n",
    "# Cadenas a números enteros\n",
    "planet_1 = int(planet_1)\n",
    "planet_2 = int(planet_2)\n",
    "\n",
    "# Realizar el cálculo y determinar el valor absoluto\n",
    "km = planet_2 - planet_1\n",
    "print(str(km) + ' km')\n",
    "\n",
    "# Convertir de KM a Millas\n",
    "mi = km * 0.621\n",
    "print('\\n' + str(abs(mi)) + ' mi')"
   ]
  }
 ],
 "metadata": {
  "interpreter": {
   "hash": "4a21aab90cb073cf7c29673da5a08e22b947d70c1133c0dd6a32e2f003669cba"
  },
  "kernelspec": {
   "display_name": "Python 3.10.2 64-bit",
   "language": "python",
   "name": "python3"
  },
  "language_info": {
   "codemirror_mode": {
    "name": "ipython",
    "version": 3
   },
   "file_extension": ".py",
   "mimetype": "text/x-python",
   "name": "python",
   "nbconvert_exporter": "python",
   "pygments_lexer": "ipython3",
   "version": "3.10.2"
  },
  "orig_nbformat": 4
 },
 "nbformat": 4,
 "nbformat_minor": 2
}
